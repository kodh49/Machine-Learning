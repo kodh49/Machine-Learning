{
 "cells": [
  {
   "cell_type": "code",
   "execution_count": 1,
   "metadata": {},
   "outputs": [],
   "source": [
    "import pandas as pd\n",
    "import numpy as np\n",
    "import matplotlib.pyplot as plt\n",
    "import statsmodels.api as sm"
   ]
  },
  {
   "cell_type": "markdown",
   "metadata": {},
   "source": [
    "필요한 Python 라이브러리를 import"
   ]
  },
  {
   "cell_type": "code",
   "execution_count": 2,
   "metadata": {},
   "outputs": [],
   "source": [
    "xval = [0, 2, 4, 6, 8, 10, 12]\n",
    "yval = [8.24, 8.44, 8.95, 10.40, 11.26, 11.54, 11.58]"
   ]
  },
  {
   "cell_type": "markdown",
   "metadata": {},
   "source": [
    "Linear Regression을 적용할 데이터 불러오기"
   ]
  },
  {
   "cell_type": "code",
   "execution_count": 3,
   "metadata": {},
   "outputs": [],
   "source": [
    "data = pd.DataFrame(\n",
    "    {'income': xval,\n",
    "    'ulcer_rate': yval\n",
    "    }\n",
    ")"
   ]
  },
  {
   "cell_type": "markdown",
   "metadata": {},
   "source": [
    "pandas 라이브러리를 사용해 데이터 프레임 생성"
   ]
  },
  {
   "cell_type": "code",
   "execution_count": 4,
   "metadata": {},
   "outputs": [
    {
     "name": "stdout",
     "output_type": "stream",
     "text": [
      "   income  ulcer_rate\n",
      "0       0        8.24\n",
      "1       2        8.44\n",
      "2       4        8.95\n",
      "3       6       10.40\n",
      "4       8       11.26\n",
      "5      10       11.54\n",
      "6      12       11.58\n"
     ]
    }
   ],
   "source": [
    "pd.set_option('display.max_rows', None)\n",
    "print(data)"
   ]
  },
  {
   "cell_type": "markdown",
   "metadata": {},
   "source": [
    "문제에서 주어진 데이터를 제대로 입력했는지 한번 더 확인"
   ]
  },
  {
   "cell_type": "code",
   "execution_count": 5,
   "metadata": {},
   "outputs": [
    {
     "name": "stderr",
     "output_type": "stream",
     "text": [
      "E:\\Anaconda\\lib\\site-packages\\statsmodels\\stats\\stattools.py:71: ValueWarning: omni_normtest is not valid with less than 8 observations; 7 samples were given.\n",
      "  \"samples were given.\" % int(n), ValueWarning)\n"
     ]
    }
   ],
   "source": [
    "model = sm.OLS.from_formula(\"ulcer_rate ~ income\", data)\n",
    "result = model.fit()\n",
    "summ = result.summary()"
   ]
  },
  {
   "cell_type": "markdown",
   "metadata": {},
   "source": [
    "OLS Regression 실행"
   ]
  },
  {
   "cell_type": "code",
   "execution_count": 6,
   "metadata": {},
   "outputs": [
    {
     "name": "stdout",
     "output_type": "stream",
     "text": [
      "                            OLS Regression Results                            \n",
      "==============================================================================\n",
      "Dep. Variable:             ulcer_rate   R-squared:                       0.927\n",
      "Model:                            OLS   Adj. R-squared:                  0.913\n",
      "Method:                 Least Squares   F-statistic:                     63.71\n",
      "Date:                Sun, 29 Mar 2020   Prob (F-statistic):           0.000498\n",
      "Time:                        01:46:59   Log-Likelihood:                -2.9877\n",
      "No. Observations:                   7   AIC:                             9.975\n",
      "Df Residuals:                       5   BIC:                             9.867\n",
      "Df Model:                           1                                         \n",
      "Covariance Type:            nonrobust                                         \n",
      "==============================================================================\n",
      "                 coef    std err          t      P>|t|      [0.025      0.975]\n",
      "------------------------------------------------------------------------------\n",
      "Intercept      8.0732      0.299     27.006      0.000       7.305       8.842\n",
      "income         0.3309      0.041      7.982      0.000       0.224       0.437\n",
      "==============================================================================\n",
      "Omnibus:                          nan   Durbin-Watson:                   1.485\n",
      "Prob(Omnibus):                    nan   Jarque-Bera (JB):                0.690\n",
      "Skew:                          -0.026   Prob(JB):                        0.708\n",
      "Kurtosis:                       1.463   Cond. No.                         13.2\n",
      "==============================================================================\n",
      "\n",
      "Warnings:\n",
      "[1] Standard Errors assume that the covariance matrix of the errors is correctly specified.\n"
     ]
    }
   ],
   "source": [
    "print(summ)"
   ]
  },
  {
   "cell_type": "markdown",
   "metadata": {},
   "source": [
    "# 표 해석 방법"
   ]
  },
  {
   "cell_type": "markdown",
   "metadata": {},
   "source": [
    "앞서 선형 회귀(Linear Regression)의 방법 중 하나인 OLS (Ordinary Least Squared)를 사용하여 적절한 선형 함수를 탐색했다.\n",
    "표의 Intercept의 계수(coef)는 데이터의 편향도를 나타낸다. 즉, 선형 모델(Linear model) y=ax+b의 형태에서 b의 값을 나타낸다고 볼 수 있다. 반대로 입력값들의 레이블인 income의 계수(coef)는 입력과 출력값 사이의 가중치(weight), 선형 모델에서 a의 값을 나타낸다."
   ]
  },
  {
   "cell_type": "code",
   "execution_count": 7,
   "metadata": {},
   "outputs": [
    {
     "data": {
      "image/png": "[encoded data removed]",
      "text/plain": [
       "<Figure size 432x288 with 1 Axes>"
      ]
     },
     "metadata": {
      "needs_background": "light"
     },
     "output_type": "display_data"
    }
   ],
   "source": [
    "fig = sm.graphics.abline_plot(model_results=result)\n",
    "ax = fig.axes[0]\n",
    "ax.scatter(xval, yval)\n",
    "plt.show()"
   ]
  },
  {
   "cell_type": "markdown",
   "metadata": {},
   "source": [
    "# 결론"
   ]
  },
  {
   "cell_type": "markdown",
   "metadata": {},
   "source": [
    "The linear model of given data: y=1.7126x-3054.1417"
   ]
  },
  {
   "cell_type": "code",
   "execution_count": 10,
   "metadata": {},
   "outputs": [],
   "source": [
    "a = 0.3309*5+8.0732\n",
    "b = 0.3309*13+8.0732"
   ]
  },
  {
   "cell_type": "code",
   "execution_count": 11,
   "metadata": {},
   "outputs": [
    {
     "name": "stdout",
     "output_type": "stream",
     "text": [
      "11.051300000000001\n"
     ]
    }
   ],
   "source": [
    "print((a+b)/2)"
   ]
  },
  {
   "cell_type": "code",
   "execution_count": 12,
   "metadata": {},
   "outputs": [
    {
     "name": "stdout",
     "output_type": "stream",
     "text": [
      "9.7277\n",
      "12.3749\n"
     ]
    }
   ],
   "source": [
    "print(a)\n",
    "print(b)"
   ]
  },
  {
   "cell_type": "code",
   "execution_count": null,
   "metadata": {},
   "outputs": [],
   "source": []
  }
 ],
 "metadata": {
  "kernelspec": {
   "display_name": "Python 3",
   "language": "python",
   "name": "python3"
  },
  "language_info": {
   "codemirror_mode": {
    "name": "ipython",
    "version": 3
   },
   "file_extension": ".py",
   "mimetype": "text/x-python",
   "name": "python",
   "nbconvert_exporter": "python",
   "pygments_lexer": "ipython3",
   "version": "3.7.6"
  }
 },
 "nbformat": 4,
 "nbformat_minor": 4
}
